{
 "cells": [
  {
   "cell_type": "code",
   "execution_count": 1,
   "metadata": {},
   "outputs": [],
   "source": [
    "import pandas as pd\n",
    "import numpy as np\n",
    "from ortools.sat.python import cp_model\n",
    "from datetime import datetime, timedelta"
   ]
  },
  {
   "cell_type": "code",
   "execution_count": 2,
   "metadata": {},
   "outputs": [],
   "source": [
    "import sys\n",
    "sys.path.append('/home/cayena/Projeto_thefamily/TeacherScheduler/')"
   ]
  },
  {
   "cell_type": "code",
   "execution_count": 3,
   "metadata": {},
   "outputs": [],
   "source": [
    "from streamlit_app.utils import transform_classes_dateframe,transform_teacher_dataframe,transform_alocation_dataframe,base_selection,expand_rows,replicate_row,clean_data\n",
    "from streamlit_app.teacher_alocation import TeacherScheduler\n",
    "from streamlit_app.validador import validador"
   ]
  },
  {
   "cell_type": "code",
   "execution_count": 4,
   "metadata": {},
   "outputs": [],
   "source": [
    "aulas_raw = pd.read_excel('/home/cayena/Downloads/ROTA_ATT_2025(3).xlsx')\n",
    "professores_raw = pd.read_excel('/home/cayena/Downloads/professores_final(4).xlsx')\n"
   ]
  },
  {
   "cell_type": "code",
   "execution_count": 5,
   "metadata": {},
   "outputs": [],
   "source": [
    "##aulas_raw = aulas_raw[~aulas_raw['teacher'].isin(['ANA - MBA'])]\n",
    "#aulas_raw.reset_index(drop=True,inplace=True)\n",
    "#aulas_raw.shape"
   ]
  },
  {
   "cell_type": "code",
   "execution_count": 6,
   "metadata": {},
   "outputs": [],
   "source": [
    "df_result =transform_classes_dateframe(aulas_raw)\n",
    "df_professor = transform_teacher_dataframe(professores_raw)"
   ]
  },
  {
   "cell_type": "code",
   "execution_count": 7,
   "metadata": {},
   "outputs": [
    {
     "name": "stdout",
     "output_type": "stream",
     "text": [
      " ESTAGIO com problema: ['ERRO']\n"
     ]
    }
   ],
   "source": [
    "validador(df_result,df_professor).check_problem()"
   ]
  },
  {
   "cell_type": "code",
   "execution_count": 8,
   "metadata": {},
   "outputs": [
    {
     "name": "stdout",
     "output_type": "stream",
     "text": [
      "Professor BRUNO MORGILLO tem horários com diferença menor que 1 hora no dia SEXTA\n",
      "Professor BRUNO MORGILLO tem horários com diferença menor que 1 hora no dia TERÇA\n",
      "Professor BRUNO MORGILLO tem horários com diferença menor que 1 hora no dia SEGUNDA\n",
      "Professor BRUNO MORGILLO tem horários com diferença menor que 1 hora no dia QUARTA\n",
      "Professor BRUNO MORGILLO tem horários com diferença menor que 1 hora no dia QUINTA\n",
      "Professor MARIA tem horários com diferença menor que 1 hora no dia SEGUNDA\n",
      "Professor MARIA tem horários com diferença menor que 1 hora no dia TERÇA\n",
      "Professor MARIA tem horários com diferença menor que 1 hora no dia SEXTA\n",
      "Professor MARIA tem horários com diferença menor que 1 hora no dia QUARTA\n",
      "Professor MARIA tem horários com diferença menor que 1 hora no dia SÁBADO\n",
      "Professor FELIPE tem horários com diferença menor que 1 hora no dia SEGUNDA\n",
      "Professor FELIPE tem horários com diferença menor que 1 hora no dia QUARTA\n",
      "Professor FELIPE tem horários com diferença menor que 1 hora no dia QUINTA\n",
      "Professor CENKAY tem horários com diferença menor que 1 hora no dia SEGUNDA\n",
      "Professor RODRIGO tem horários com diferença menor que 1 hora no dia QUARTA\n",
      "Professor RODRIGO tem horários com diferença menor que 1 hora no dia TERÇA\n",
      "Professor MADISON tem horários com diferença menor que 1 hora no dia SEGUNDA\n",
      "Professor MADISON tem horários com diferença menor que 1 hora no dia TERÇA\n",
      "Professor MADISON tem horários com diferença menor que 1 hora no dia QUARTA\n",
      "Professor MADISON tem horários com diferença menor que 1 hora no dia QUINTA\n",
      "Professor CLAUDIO tem horários com diferença menor que 1 hora no dia SEGUNDA\n",
      "Professor CLAUDIO tem horários com diferença menor que 1 hora no dia TERÇA\n",
      "Professor CLAUDIO tem horários com diferença menor que 1 hora no dia QUARTA\n",
      "Professor CLAUDIO tem horários com diferença menor que 1 hora no dia QUINTA\n",
      "Professor BARBARA tem horários com diferença menor que 1 hora no dia SEGUNDA\n",
      "Professor BARBARA tem horários com diferença menor que 1 hora no dia QUARTA\n",
      "Professor BARBARA tem horários com diferença menor que 1 hora no dia QUINTA\n",
      "Professor BELLA tem horários com diferença menor que 1 hora no dia TERÇA\n",
      "Professor BELLA tem horários com diferença menor que 1 hora no dia QUINTA\n",
      "Professor BELLA tem horários com diferença menor que 1 hora no dia SEGUNDA\n",
      "Professor BELLA tem horários com diferença menor que 1 hora no dia QUARTA\n",
      "Professor ANA - MBA tem horários com diferença menor que 1 hora no dia SEGUNDA\n"
     ]
    }
   ],
   "source": [
    "validador(df_result,df_professor).check_impossible_time()"
   ]
  },
  {
   "cell_type": "code",
   "execution_count": 16,
   "metadata": {},
   "outputs": [
    {
     "data": {
      "text/plain": [
       "array([ 32400000000000, -10800000000000, -28800000000000,   3600000000000],\n",
       "      dtype='timedelta64[ns]')"
      ]
     },
     "execution_count": 16,
     "metadata": {},
     "output_type": "execute_result"
    }
   ],
   "source": [
    "horarios = pd.to_datetime(df_result[(df_result['teacher'] == 'BRUNO MORGILLO') & \n",
    "                                    (df_result['dias da semana'] == 'SEGUNDA')]['horario']\n",
    "                    .unique(), format=\"%H:%M:%S\")\n",
    "\n",
    "# Calcula todas as diferenças possíveis entre os horários\n",
    "diffs = np.diff(horarios)\n",
    "diffs\n",
    "# Verifica se alguma diferença é menor que 1 hora\n",
    "#exists_diff_less_than_1h = np.any((diffs < pd.Timedelta(hours=1)))"
   ]
  },
  {
   "cell_type": "code",
   "execution_count": 8,
   "metadata": {},
   "outputs": [
    {
     "name": "stdout",
     "output_type": "stream",
     "text": [
      "46924\n"
     ]
    },
    {
     "data": {
      "text/html": [
       "<div>\n",
       "<style scoped>\n",
       "    .dataframe tbody tr th:only-of-type {\n",
       "        vertical-align: middle;\n",
       "    }\n",
       "\n",
       "    .dataframe tbody tr th {\n",
       "        vertical-align: top;\n",
       "    }\n",
       "\n",
       "    .dataframe thead th {\n",
       "        text-align: right;\n",
       "    }\n",
       "</style>\n",
       "<table border=\"1\" class=\"dataframe\">\n",
       "  <thead>\n",
       "    <tr style=\"text-align: right;\">\n",
       "      <th></th>\n",
       "      <th>professores_alocados</th>\n",
       "      <th>nome grupo</th>\n",
       "    </tr>\n",
       "  </thead>\n",
       "  <tbody>\n",
       "    <tr>\n",
       "      <th>0</th>\n",
       "      <td>NICK</td>\n",
       "      <td>ABU DHABI EAD - 4X</td>\n",
       "    </tr>\n",
       "    <tr>\n",
       "      <th>1</th>\n",
       "      <td>BRUNO MORGILLO</td>\n",
       "      <td>ANDERSON VIP EAD - 1X</td>\n",
       "    </tr>\n",
       "    <tr>\n",
       "      <th>2</th>\n",
       "      <td>BARBARA</td>\n",
       "      <td>ANDRE VIP CONV EAD - 2X</td>\n",
       "    </tr>\n",
       "    <tr>\n",
       "      <th>3</th>\n",
       "      <td>CAROL</td>\n",
       "      <td>AUCKLAND P - 4X</td>\n",
       "    </tr>\n",
       "    <tr>\n",
       "      <th>4</th>\n",
       "      <td>JOÃO</td>\n",
       "      <td>BAKERSFIELD P - 4X</td>\n",
       "    </tr>\n",
       "    <tr>\n",
       "      <th>...</th>\n",
       "      <td>...</td>\n",
       "      <td>...</td>\n",
       "    </tr>\n",
       "    <tr>\n",
       "      <th>141</th>\n",
       "      <td>BARBARA</td>\n",
       "      <td>NEBRASKA P - 3X</td>\n",
       "    </tr>\n",
       "    <tr>\n",
       "      <th>142</th>\n",
       "      <td>MADISON</td>\n",
       "      <td>NORTHAMPTOM P - 3X</td>\n",
       "    </tr>\n",
       "    <tr>\n",
       "      <th>143</th>\n",
       "      <td>NATACHA</td>\n",
       "      <td>SAN JUAN EAD - 3X</td>\n",
       "    </tr>\n",
       "    <tr>\n",
       "      <th>144</th>\n",
       "      <td>BRUNO MORGILLO</td>\n",
       "      <td>SCOTT EAD - 3X</td>\n",
       "    </tr>\n",
       "    <tr>\n",
       "      <th>145</th>\n",
       "      <td>BRUNA</td>\n",
       "      <td>SOUTHAMPTON P - 3X</td>\n",
       "    </tr>\n",
       "  </tbody>\n",
       "</table>\n",
       "<p>146 rows × 2 columns</p>\n",
       "</div>"
      ],
      "text/plain": [
       "    professores_alocados               nome grupo\n",
       "0                   NICK       ABU DHABI EAD - 4X\n",
       "1         BRUNO MORGILLO    ANDERSON VIP EAD - 1X\n",
       "2                BARBARA  ANDRE VIP CONV EAD - 2X\n",
       "3                  CAROL          AUCKLAND P - 4X\n",
       "4                   JOÃO       BAKERSFIELD P - 4X\n",
       "..                   ...                      ...\n",
       "141              BARBARA          NEBRASKA P - 3X\n",
       "142              MADISON       NORTHAMPTOM P - 3X\n",
       "143              NATACHA        SAN JUAN EAD - 3X\n",
       "144       BRUNO MORGILLO           SCOTT EAD - 3X\n",
       "145                BRUNA       SOUTHAMPTON P - 3X\n",
       "\n",
       "[146 rows x 2 columns]"
      ]
     },
     "execution_count": 8,
     "metadata": {},
     "output_type": "execute_result"
    }
   ],
   "source": [
    "Ts = TeacherScheduler(df_result, professores_raw)\n",
    "base_alocada = Ts.schedule_teachers()\n",
    "base_alocada"
   ]
  },
  {
   "cell_type": "code",
   "execution_count": 9,
   "metadata": {},
   "outputs": [
    {
     "data": {
      "text/html": [
       "<div>\n",
       "<style scoped>\n",
       "    .dataframe tbody tr th:only-of-type {\n",
       "        vertical-align: middle;\n",
       "    }\n",
       "\n",
       "    .dataframe tbody tr th {\n",
       "        vertical-align: top;\n",
       "    }\n",
       "\n",
       "    .dataframe thead th {\n",
       "        text-align: right;\n",
       "    }\n",
       "</style>\n",
       "<table border=\"1\" class=\"dataframe\">\n",
       "  <thead>\n",
       "    <tr style=\"text-align: right;\">\n",
       "      <th></th>\n",
       "      <th>nome grupo</th>\n",
       "      <th>horario</th>\n",
       "      <th>unidade</th>\n",
       "      <th>dias da semana</th>\n",
       "      <th>stage</th>\n",
       "      <th>livro</th>\n",
       "      <th>modalidade</th>\n",
       "      <th>grupo</th>\n",
       "      <th>n aulas</th>\n",
       "      <th>parag atual grupo</th>\n",
       "      <th>...</th>\n",
       "      <th>rescisao</th>\n",
       "      <th>permuta</th>\n",
       "      <th>bolsista</th>\n",
       "      <th>n_total_alunos</th>\n",
       "      <th>stage_formula</th>\n",
       "      <th>parag_final_formula</th>\n",
       "      <th>num_1_sempre</th>\n",
       "      <th>ultimo_professor</th>\n",
       "      <th>penultimo_professor</th>\n",
       "      <th>restricoes_professor</th>\n",
       "    </tr>\n",
       "  </thead>\n",
       "  <tbody>\n",
       "  </tbody>\n",
       "</table>\n",
       "<p>0 rows × 25 columns</p>\n",
       "</div>"
      ],
      "text/plain": [
       "Empty DataFrame\n",
       "Columns: [nome grupo, horario, unidade, dias da semana, stage, livro, modalidade, grupo, n aulas, parag atual grupo, parag_final_grupo, teacher, status, zoom, n_alunos, rescisao, permuta, bolsista, n_total_alunos, stage_formula, parag_final_formula, num_1_sempre, ultimo_professor, penultimo_professor, restricoes_professor]\n",
       "Index: []\n",
       "\n",
       "[0 rows x 25 columns]"
      ]
     },
     "execution_count": 9,
     "metadata": {},
     "output_type": "execute_result"
    }
   ],
   "source": [
    "df_final,aulas_nao_alocadas = transform_alocation_dataframe(aulas_raw,base_alocada)\n",
    "aulas_nao_alocadas"
   ]
  }
 ],
 "metadata": {
  "kernelspec": {
   "display_name": "Python 3",
   "language": "python",
   "name": "python3"
  },
  "language_info": {
   "codemirror_mode": {
    "name": "ipython",
    "version": 3
   },
   "file_extension": ".py",
   "mimetype": "text/x-python",
   "name": "python",
   "nbconvert_exporter": "python",
   "pygments_lexer": "ipython3",
   "version": "3.10.12"
  }
 },
 "nbformat": 4,
 "nbformat_minor": 2
}
