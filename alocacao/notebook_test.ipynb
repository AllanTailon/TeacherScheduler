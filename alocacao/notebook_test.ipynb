{
 "cells": [
  {
   "cell_type": "code",
   "execution_count": 1,
   "metadata": {},
   "outputs": [],
   "source": [
    "import pandas as pd\n",
    "import numpy as np\n",
    "from ortools.sat.python import cp_model\n",
    "from datetime import datetime, timedelta"
   ]
  },
  {
   "cell_type": "code",
   "execution_count": 2,
   "metadata": {},
   "outputs": [],
   "source": [
    "import sys\n",
    "sys.path.append('/home/cayena/Projeto_thefamily/TeacherScheduler/')"
   ]
  },
  {
   "cell_type": "code",
   "execution_count": 3,
   "metadata": {},
   "outputs": [],
   "source": [
    "from streamlit_app.utils import transform_classes_dateframe,transform_teacher_dataframe,transform_alocation_dataframe,base_selection,expand_rows,replicate_row,clean_data\n",
    "from streamlit_app.teacher_alocation import TeacherScheduler\n",
    "from streamlit_app.validador import validador"
   ]
  },
  {
   "cell_type": "code",
   "execution_count": 4,
   "metadata": {},
   "outputs": [],
   "source": [
    "aulas_raw = pd.read_excel('/home/cayena/Downloads/rotas_ultimo_professor2.xlsx')\n",
    "professores_raw = pd.read_excel('/home/cayena/Downloads/professores_final(4).xlsx')\n"
   ]
  },
  {
   "cell_type": "code",
   "execution_count": 5,
   "metadata": {},
   "outputs": [],
   "source": [
    "df_result =transform_classes_dateframe(aulas_raw)\n",
    "df_professor = transform_teacher_dataframe(professores_raw)"
   ]
  },
  {
   "cell_type": "code",
   "execution_count": 6,
   "metadata": {},
   "outputs": [
    {
     "name": "stdout",
     "output_type": "stream",
     "text": [
      "63626\n"
     ]
    },
    {
     "data": {
      "text/html": [
       "<div>\n",
       "<style scoped>\n",
       "    .dataframe tbody tr th:only-of-type {\n",
       "        vertical-align: middle;\n",
       "    }\n",
       "\n",
       "    .dataframe tbody tr th {\n",
       "        vertical-align: top;\n",
       "    }\n",
       "\n",
       "    .dataframe thead th {\n",
       "        text-align: right;\n",
       "    }\n",
       "</style>\n",
       "<table border=\"1\" class=\"dataframe\">\n",
       "  <thead>\n",
       "    <tr style=\"text-align: right;\">\n",
       "      <th></th>\n",
       "      <th>professores_alocados</th>\n",
       "      <th>nome grupo</th>\n",
       "    </tr>\n",
       "  </thead>\n",
       "  <tbody>\n",
       "    <tr>\n",
       "      <th>0</th>\n",
       "      <td>RODRIGO</td>\n",
       "      <td>ABU DHABI EAD - 4X</td>\n",
       "    </tr>\n",
       "    <tr>\n",
       "      <th>1</th>\n",
       "      <td>BELLA</td>\n",
       "      <td>ANDERSON VIP EAD - 1X</td>\n",
       "    </tr>\n",
       "    <tr>\n",
       "      <th>2</th>\n",
       "      <td>BELLA</td>\n",
       "      <td>ANDRE VIP CONV EAD - 2X</td>\n",
       "    </tr>\n",
       "    <tr>\n",
       "      <th>3</th>\n",
       "      <td>CAROL</td>\n",
       "      <td>AUCKLAND P - 4X</td>\n",
       "    </tr>\n",
       "    <tr>\n",
       "      <th>4</th>\n",
       "      <td>CAROL</td>\n",
       "      <td>BAKERSFIELD P - 4X</td>\n",
       "    </tr>\n",
       "    <tr>\n",
       "      <th>...</th>\n",
       "      <td>...</td>\n",
       "      <td>...</td>\n",
       "    </tr>\n",
       "    <tr>\n",
       "      <th>145</th>\n",
       "      <td>SAMARA</td>\n",
       "      <td>NEBRASKA P - 3X</td>\n",
       "    </tr>\n",
       "    <tr>\n",
       "      <th>146</th>\n",
       "      <td>MARIA</td>\n",
       "      <td>NORTHAMPTOM P - 3X</td>\n",
       "    </tr>\n",
       "    <tr>\n",
       "      <th>147</th>\n",
       "      <td>NATACHA</td>\n",
       "      <td>SAN JUAN EAD - 3X</td>\n",
       "    </tr>\n",
       "    <tr>\n",
       "      <th>148</th>\n",
       "      <td>CARLOS</td>\n",
       "      <td>SCOTT EAD - 3X</td>\n",
       "    </tr>\n",
       "    <tr>\n",
       "      <th>149</th>\n",
       "      <td>MARIA CLARA</td>\n",
       "      <td>SOUTHAMPTON P - 3X</td>\n",
       "    </tr>\n",
       "  </tbody>\n",
       "</table>\n",
       "<p>150 rows × 2 columns</p>\n",
       "</div>"
      ],
      "text/plain": [
       "    professores_alocados               nome grupo\n",
       "0                RODRIGO       ABU DHABI EAD - 4X\n",
       "1                  BELLA    ANDERSON VIP EAD - 1X\n",
       "2                  BELLA  ANDRE VIP CONV EAD - 2X\n",
       "3                  CAROL          AUCKLAND P - 4X\n",
       "4                  CAROL       BAKERSFIELD P - 4X\n",
       "..                   ...                      ...\n",
       "145               SAMARA          NEBRASKA P - 3X\n",
       "146                MARIA       NORTHAMPTOM P - 3X\n",
       "147              NATACHA        SAN JUAN EAD - 3X\n",
       "148               CARLOS           SCOTT EAD - 3X\n",
       "149          MARIA CLARA       SOUTHAMPTON P - 3X\n",
       "\n",
       "[150 rows x 2 columns]"
      ]
     },
     "execution_count": 6,
     "metadata": {},
     "output_type": "execute_result"
    }
   ],
   "source": [
    "Ts = TeacherScheduler(df_result, professores_raw)\n",
    "base_alocada = Ts.schedule_teachers()\n",
    "base_alocada"
   ]
  },
  {
   "cell_type": "code",
   "execution_count": 7,
   "metadata": {},
   "outputs": [
    {
     "data": {
      "text/html": [
       "<div>\n",
       "<style scoped>\n",
       "    .dataframe tbody tr th:only-of-type {\n",
       "        vertical-align: middle;\n",
       "    }\n",
       "\n",
       "    .dataframe tbody tr th {\n",
       "        vertical-align: top;\n",
       "    }\n",
       "\n",
       "    .dataframe thead th {\n",
       "        text-align: right;\n",
       "    }\n",
       "</style>\n",
       "<table border=\"1\" class=\"dataframe\">\n",
       "  <thead>\n",
       "    <tr style=\"text-align: right;\">\n",
       "      <th></th>\n",
       "      <th>nome grupo</th>\n",
       "      <th>horario</th>\n",
       "      <th>unidade</th>\n",
       "      <th>dias da semana</th>\n",
       "      <th>stage</th>\n",
       "      <th>livro</th>\n",
       "      <th>modalidade</th>\n",
       "      <th>grupo</th>\n",
       "      <th>n aulas</th>\n",
       "      <th>parag atual grupo</th>\n",
       "      <th>...</th>\n",
       "      <th>rescisao</th>\n",
       "      <th>permuta</th>\n",
       "      <th>bolsista</th>\n",
       "      <th>n_total_alunos</th>\n",
       "      <th>stage_formula</th>\n",
       "      <th>parag_final_formula</th>\n",
       "      <th>num_1_sempre</th>\n",
       "      <th>ultimo_professor</th>\n",
       "      <th>penultimo_professor</th>\n",
       "      <th>restricoes_professor</th>\n",
       "    </tr>\n",
       "  </thead>\n",
       "  <tbody>\n",
       "  </tbody>\n",
       "</table>\n",
       "<p>0 rows × 25 columns</p>\n",
       "</div>"
      ],
      "text/plain": [
       "Empty DataFrame\n",
       "Columns: [nome grupo, horario, unidade, dias da semana, stage, livro, modalidade, grupo, n aulas, parag atual grupo, parag_final_grupo, teacher, status, zoom, n_alunos, rescisao, permuta, bolsista, n_total_alunos, stage_formula, parag_final_formula, num_1_sempre, ultimo_professor, penultimo_professor, restricoes_professor]\n",
       "Index: []\n",
       "\n",
       "[0 rows x 25 columns]"
      ]
     },
     "execution_count": 7,
     "metadata": {},
     "output_type": "execute_result"
    }
   ],
   "source": [
    "df_final,aulas_nao_alocadas = transform_alocation_dataframe(aulas_raw,base_alocada)\n",
    "aulas_nao_alocadas"
   ]
  }
 ],
 "metadata": {
  "kernelspec": {
   "display_name": "Python 3",
   "language": "python",
   "name": "python3"
  },
  "language_info": {
   "codemirror_mode": {
    "name": "ipython",
    "version": 3
   },
   "file_extension": ".py",
   "mimetype": "text/x-python",
   "name": "python",
   "nbconvert_exporter": "python",
   "pygments_lexer": "ipython3",
   "version": "3.10.12"
  }
 },
 "nbformat": 4,
 "nbformat_minor": 2
}
