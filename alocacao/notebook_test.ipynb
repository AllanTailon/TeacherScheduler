{
 "cells": [
  {
   "cell_type": "code",
   "execution_count": 1,
   "metadata": {},
   "outputs": [],
   "source": [
    "import pandas as pd\n",
    "import numpy as np\n",
    "import random\n",
    "from ortools.sat.python import cp_model\n",
    "import names"
   ]
  },
  {
   "cell_type": "code",
   "execution_count": 2,
   "metadata": {},
   "outputs": [],
   "source": [
    "def doub_row(row):\n",
    "    hora_inicial = pd.to_datetime(row['Horário'], format='%H:%M:%S')\n",
    "    \n",
    "    nova_linha_1 = row.copy()\n",
    "    nova_linha_2 = row.copy()\n",
    "    \n",
    "    nova_linha_1['Horário'] = (hora_inicial).strftime('%H:%M:%S')\n",
    "    nova_linha_2['Horário'] = (hora_inicial + pd.Timedelta(hours=1)).strftime('%H:%M:%S')\n",
    "    \n",
    "    return pd.DataFrame([nova_linha_1, nova_linha_2])\n",
    "\n",
    "def tri_row(row):\n",
    "    hora_inicial = pd.to_datetime(row['Horário'], format='%H:%M:%S')\n",
    "    \n",
    "    nova_linha_1 = row.copy()\n",
    "    nova_linha_2 = row.copy()\n",
    "    nova_linha_3 = row.copy()\n",
    "    \n",
    "    nova_linha_1['Horário'] = (hora_inicial).strftime('%H:%M:%S')\n",
    "    nova_linha_2['Horário'] = (hora_inicial + pd.Timedelta(hours=1)).strftime('%H:%M:%S')\n",
    "    nova_linha_3['Horário'] = (hora_inicial + pd.Timedelta(hours=2)).strftime('%H:%M:%S')\n",
    "    \n",
    "    return pd.DataFrame([nova_linha_1, nova_linha_2, nova_linha_3])\n",
    "\n",
    "def desaninhar_dias(df):\n",
    "    df['Dias da Semana'] = df['Dias da Semana'].str.split(',')\n",
    "    df = df.explode('Dias da Semana')\n",
    "    return df\n",
    "\n",
    "# Aplicar a função para todas as linhas triplas\n",
    "def apply_func(df,func):\n",
    "    linhas_triplicadas = df.apply(func, axis=1)\n",
    "    return pd.concat(linhas_triplicadas.tolist(), ignore_index=True)"
   ]
  },
  {
   "cell_type": "code",
   "execution_count": 3,
   "metadata": {},
   "outputs": [],
   "source": [
    "aulas_raw = pd.read_excel('/home/cayena/Downloads/ROTA TESTE CARLOS E ALLAN.xlsx',header=1)\n",
    "aulas_tratadas = aulas_raw.loc[~aulas_raw['Grupo'].isnull()][['Grupo','Horário','Dias da Semana','Unidade','STATUS']]"
   ]
  },
  {
   "cell_type": "code",
   "execution_count": 4,
   "metadata": {},
   "outputs": [],
   "source": [
    "aulas_tratadas = aulas_tratadas.loc[aulas_tratadas['Dias da Semana']!='FOLDER'].reset_index(drop=True)"
   ]
  },
  {
   "cell_type": "code",
   "execution_count": 5,
   "metadata": {},
   "outputs": [],
   "source": [
    "aulas = aulas_tratadas.copy()\n",
    "# tratando os dados para colocar cada linha uma aula\n",
    "aulas['Dias da Semana'] = aulas['Dias da Semana'].str.replace('EVERYDAY','2ª ● 3ª ● 4ª ● 5ª ● 6ª')\n",
    "\n",
    "# separando as aulas que são triplas, duplas e o resto\n",
    "tri = aulas.loc[aulas['Dias da Semana'] == 'Saturday - Triple']\n",
    "doub = aulas.loc[aulas['Dias da Semana'].str.contains('DOUBLE')]\n",
    "aulas_simples = aulas[~aulas['Dias da Semana'].str.contains('DOUBLE|Saturday - Triple')].copy()\n",
    "\n",
    "# tratando a colunas horario\n",
    "aulas_simples['Horário'] = pd.to_datetime(aulas_simples['Horário'],format='%H:%M:%S').dt.strftime('%H:%M:%S')"
   ]
  },
  {
   "cell_type": "code",
   "execution_count": 6,
   "metadata": {},
   "outputs": [],
   "source": [
    "# transformando aulas duplas/triplas em 2/3 linhas\n",
    "aulas_duplicadas = apply_func(doub, doub_row)\n",
    "aulas_triplicadas = apply_func(tri, tri_row)\n",
    "\n",
    "# padronizando a coluna de dias da semana\n",
    "aulas_duplicadas['Dias da Semana'] = aulas_duplicadas['Dias da Semana'].str.replace('DOUBLE','')\n",
    "aulas_triplicadas['Dias da Semana'] = aulas_triplicadas['Dias da Semana'].str.replace(' - Triple','')\n",
    "\n",
    "# juntando todas as linhas\n",
    "df_tratado = pd.concat([aulas_simples, aulas_duplicadas, aulas_triplicadas], ignore_index=True)"
   ]
  },
  {
   "cell_type": "code",
   "execution_count": 7,
   "metadata": {},
   "outputs": [],
   "source": [
    "# transformando aulas duplas/triplas em 2/3 linhas\n",
    "aulas_duplicadas = apply_func(doub, doub_row)\n",
    "aulas_triplicadas = apply_func(tri, tri_row)\n",
    "\n",
    "# padronizando a coluna de dias da semana\n",
    "aulas_duplicadas['Dias da Semana'] = aulas_duplicadas['Dias da Semana'].str.replace('DOUBLE','')\n",
    "aulas_triplicadas['Dias da Semana'] = aulas_triplicadas['Dias da Semana'].str.replace(' - Triple','')\n",
    "\n",
    "# juntando todas as linhas\n",
    "df_tratado = pd.concat([aulas_simples, aulas_duplicadas, aulas_triplicadas], ignore_index=True)\n",
    "\n",
    "# desaninhando os dias da semana\n",
    "df_tratado['Dias da Semana'] = df_tratado['Dias da Semana'].str.replace('●',',')"
   ]
  },
  {
   "cell_type": "code",
   "execution_count": 8,
   "metadata": {},
   "outputs": [],
   "source": [
    "# transformando aulas duplas/triplas em 2/3 linhas\n",
    "aulas_duplicadas = apply_func(doub, doub_row)\n",
    "aulas_triplicadas = apply_func(tri, tri_row)\n",
    "\n",
    "# padronizando a coluna de dias da semana\n",
    "aulas_duplicadas['Dias da Semana'] = aulas_duplicadas['Dias da Semana'].str.replace('DOUBLE','')\n",
    "aulas_triplicadas['Dias da Semana'] = aulas_triplicadas['Dias da Semana'].str.replace(' - Triple','')\n",
    "\n",
    "# juntando todas as linhas\n",
    "df_tratado = pd.concat([aulas_simples, aulas_duplicadas, aulas_triplicadas], ignore_index=True)\n",
    "\n",
    "# desaninhando os dias da semana\n",
    "df_tratado['Dias da Semana'] = df_tratado['Dias da Semana'].str.replace('●',',').str.replace(' ','').str.split(',')\n",
    "df_tratado = df_tratado.explode('Dias da Semana').reset_index(drop=True)\n",
    "\n",
    "df_tratado['Dias da Semana'] = df_tratado['Dias da Semana'].str.replace('ª','ª,').str.split(',')\n",
    "df_tratado = df_tratado.explode('Dias da Semana').reset_index(drop=True)\n",
    "\n",
    "df_tratado = df_tratado[df_tratado['Dias da Semana']!=''].copy()\n",
    "\n",
    "df_tratado['STATUS'].fillna('PRESENCIAL', inplace=True)\n",
    "\n",
    "df_tratado['horario_tratado'] = pd.to_datetime(df_tratado['Horário'], format='%H:%M:%S')"
   ]
  },
  {
   "cell_type": "code",
   "execution_count": 9,
   "metadata": {},
   "outputs": [
    {
     "data": {
      "text/html": [
       "<div>\n",
       "<style scoped>\n",
       "    .dataframe tbody tr th:only-of-type {\n",
       "        vertical-align: middle;\n",
       "    }\n",
       "\n",
       "    .dataframe tbody tr th {\n",
       "        vertical-align: top;\n",
       "    }\n",
       "\n",
       "    .dataframe thead th {\n",
       "        text-align: right;\n",
       "    }\n",
       "</style>\n",
       "<table border=\"1\" class=\"dataframe\">\n",
       "  <thead>\n",
       "    <tr style=\"text-align: right;\">\n",
       "      <th></th>\n",
       "      <th>Grupo</th>\n",
       "      <th>Horário</th>\n",
       "      <th>Dias da Semana</th>\n",
       "      <th>Unidade</th>\n",
       "      <th>STATUS</th>\n",
       "      <th>horario_tratado</th>\n",
       "    </tr>\n",
       "  </thead>\n",
       "  <tbody>\n",
       "  </tbody>\n",
       "</table>\n",
       "</div>"
      ],
      "text/plain": [
       "Empty DataFrame\n",
       "Columns: [Grupo, Horário, Dias da Semana, Unidade, STATUS, horario_tratado]\n",
       "Index: []"
      ]
     },
     "execution_count": 9,
     "metadata": {},
     "output_type": "execute_result"
    }
   ],
   "source": [
    "df_tratado[df_tratado['STATUS'].isnull()]"
   ]
  },
  {
   "cell_type": "code",
   "execution_count": 10,
   "metadata": {},
   "outputs": [
    {
     "data": {
      "text/html": [
       "<div>\n",
       "<style scoped>\n",
       "    .dataframe tbody tr th:only-of-type {\n",
       "        vertical-align: middle;\n",
       "    }\n",
       "\n",
       "    .dataframe tbody tr th {\n",
       "        vertical-align: top;\n",
       "    }\n",
       "\n",
       "    .dataframe thead th {\n",
       "        text-align: right;\n",
       "    }\n",
       "</style>\n",
       "<table border=\"1\" class=\"dataframe\">\n",
       "  <thead>\n",
       "    <tr style=\"text-align: right;\">\n",
       "      <th></th>\n",
       "      <th>professor</th>\n",
       "      <th>tem_carro</th>\n",
       "    </tr>\n",
       "  </thead>\n",
       "  <tbody>\n",
       "    <tr>\n",
       "      <th>0</th>\n",
       "      <td>Audrey</td>\n",
       "      <td>1</td>\n",
       "    </tr>\n",
       "    <tr>\n",
       "      <th>1</th>\n",
       "      <td>Bobby</td>\n",
       "      <td>1</td>\n",
       "    </tr>\n",
       "    <tr>\n",
       "      <th>2</th>\n",
       "      <td>Marguerite</td>\n",
       "      <td>1</td>\n",
       "    </tr>\n",
       "    <tr>\n",
       "      <th>3</th>\n",
       "      <td>Anthony</td>\n",
       "      <td>1</td>\n",
       "    </tr>\n",
       "    <tr>\n",
       "      <th>4</th>\n",
       "      <td>Terry</td>\n",
       "      <td>1</td>\n",
       "    </tr>\n",
       "  </tbody>\n",
       "</table>\n",
       "</div>"
      ],
      "text/plain": [
       "    professor  tem_carro\n",
       "0      Audrey          1\n",
       "1       Bobby          1\n",
       "2  Marguerite          1\n",
       "3     Anthony          1\n",
       "4       Terry          1"
      ]
     },
     "execution_count": 10,
     "metadata": {},
     "output_type": "execute_result"
    }
   ],
   "source": [
    "nomes_distintos = set()  # Usar um conjunto para garantir a distinção\n",
    "tem_carro = np.random.choice([0, 1], size=50, p=[0.3, 0.7])\n",
    "while len(nomes_distintos) < 50:\n",
    "    primeiro_nome = names.get_first_name()\n",
    "    nomes_distintos.add(primeiro_nome)\n",
    "\n",
    "professors = list(nomes_distintos)\n",
    "has_car = list(tem_carro)\n",
    "info_professors = pd.DataFrame({'professor': professors, 'tem_carro': has_car})\n",
    "info_professors.head()"
   ]
  },
  {
   "cell_type": "code",
   "execution_count": 11,
   "metadata": {},
   "outputs": [],
   "source": [
    "# Dicionário de alocações\n",
    "alocacoes = {}\n",
    "\n",
    "# Modelo\n",
    "model = cp_model.CpModel()\n",
    "\n",
    "for i in professors:\n",
    "    for g in df_tratado['Grupo'].unique():\n",
    "        alocacoes[(i,g)] = model.NewBoolVar(f\"{i}_converinglesson_{g}\")"
   ]
  },
  {
   "cell_type": "markdown",
   "metadata": {},
   "source": [
    "#### condição : só um professor por grupo"
   ]
  },
  {
   "cell_type": "code",
   "execution_count": 12,
   "metadata": {},
   "outputs": [],
   "source": [
    "for g in df_tratado['Grupo'].unique():\n",
    "    model.Add(sum(alocacoes[(i,g)] for i in professors) == 1)"
   ]
  },
  {
   "cell_type": "markdown",
   "metadata": {},
   "source": [
    "#### condição : professor só da aula em uma turma de mesmo horario"
   ]
  },
  {
   "cell_type": "code",
   "execution_count": 13,
   "metadata": {},
   "outputs": [],
   "source": [
    "horarios = df_tratado['Horário'].unique()\n",
    "dias = df_tratado['Dias da Semana'].unique()\n",
    "for h in horarios:\n",
    "    for d in dias: \n",
    "        grupos_no_mesmo_horario = df_tratado.loc[((df_tratado['Horário'] == h) & (df_tratado['Dias da Semana'] == d))]['Grupo'].unique()\n",
    "        for i in professors:\n",
    "            model.Add(sum(alocacoes[(i,g)] for g in grupos_no_mesmo_horario) <= 1)"
   ]
  },
  {
   "cell_type": "markdown",
   "metadata": {},
   "source": [
    "#### codição : professor nao pode dar aulas seguidas em regioes distintas"
   ]
  },
  {
   "cell_type": "code",
   "execution_count": 14,
   "metadata": {},
   "outputs": [],
   "source": [
    "for x in df_tratado['Dias da Semana'].unique():\n",
    "    for j in df_tratado['Grupo'].unique():\n",
    "        # Verifica se existe disponíveis para o grupo no dia da semana\n",
    "        if df_tratado.loc[(df_tratado['Grupo'] == j) & (df_tratado['Dias da Semana'] == x), 'Horário'].empty:\n",
    "            continue\n",
    "        \n",
    "        # Verifica se a primeira ocorrência do grupo e dia da semana é presencial\n",
    "        status = df_tratado.loc[(df_tratado['Grupo'] == j) & (df_tratado['Dias da Semana'] == x), 'STATUS'].values[0]\n",
    "        if status == 'PRESENCIAL':\n",
    "            # Coleta o horário tratado e a unidade do grupo\n",
    "            horario_da_turma, unidade_da_turma = df_tratado.loc[\n",
    "                (df_tratado['Grupo'] == j) & (df_tratado['Dias da Semana'] == x), \n",
    "                ['horario_tratado', 'Unidade']\n",
    "            ].values[0]\n",
    "\n",
    "            # Localiza grupos com horários seguidos (1 hora depois) e unidades diferentes\n",
    "            grupos_seguidos = df_tratado.loc[\n",
    "                (df_tratado['Dias da Semana'] == x) & \n",
    "                (df_tratado['Horário'] == (horario_da_turma + pd.Timedelta(hours=1)).strftime('%H:%M:%S')) & \n",
    "                (df_tratado['Unidade'] != unidade_da_turma) & \n",
    "                (df_tratado['STATUS'] == 'PRESENCIAL'), \n",
    "                'Grupo'\n",
    "            ].unique()\n",
    "\n",
    "            # Adiciona o grupo atual à lista de grupos seguidos\n",
    "            grupos_seguidos = list(grupos_seguidos)  # Converte para lista, caso não seja\n",
    "            grupos_seguidos.append(j)\n",
    "            \n",
    "            # Se houver mais de um grupo seguido, exibe a informação\n",
    "            if len(grupos_seguidos) > 1:\n",
    "                \n",
    "                # Restrição no modelo para garantir que não haja mais de um professor alocado\n",
    "                for i in professors:\n",
    "                    model.Add(sum(alocacoes[(i, g)] for g in grupos_seguidos) <= 1)\n"
   ]
  },
  {
   "cell_type": "code",
   "execution_count": 15,
   "metadata": {},
   "outputs": [
    {
     "name": "stdout",
     "output_type": "stream",
     "text": [
      "O professor Bobby foi alocado ao grupo MBA DAVI BRAGA\n",
      "O professor Audrey foi alocado ao grupo MBA LIGA DOS CAMPEÕES\n",
      "O professor Audrey foi alocado ao grupo MBA IDEIAS EM AÇÃO\n",
      "O professor Audrey foi alocado ao grupo GREENSBURG ONLINE\n",
      "O professor Bobby foi alocado ao grupo SAVANAH PRESENCIAL\n",
      "O professor Audrey foi alocado ao grupo CONVERSATION 14 PRESENCIAL\n",
      "O professor Bobby foi alocado ao grupo FERNANDO CAJE - PRESENCIAL\n",
      "O professor Carlos foi alocado ao grupo KNOXVILLE PRESENCIAL\n",
      "O professor Anthony foi alocado ao grupo GREAT BRITAIN PRESENCIAL\n",
      "O professor Bobby foi alocado ao grupo GARLAND PRESENCIAL\n",
      "O professor Jenna foi alocado ao grupo TAMPA PRESENCIAL\n",
      "O professor Audrey foi alocado ao grupo CAPE COD PRESENCIAL\n",
      "O professor Bobby foi alocado ao grupo TABLEDERRY ONLINE\n",
      "O professor Marguerite foi alocado ao grupo ANA PAULA - ONLINE\n",
      "O professor Anthony foi alocado ao grupo KENTUCKY ONLINE\n",
      "O professor Brian foi alocado ao grupo CURAÇAU ONLINE\n",
      "O professor Bobby foi alocado ao grupo KIKO - VIP - PRESENCIAL\n",
      "O professor Marguerite foi alocado ao grupo BRUNA - ONLINE\n",
      "O professor Audrey foi alocado ao grupo LUCIANE - PRESENCIAL\n",
      "O professor Audrey foi alocado ao grupo THEO - ONLINE\n",
      "O professor Audrey foi alocado ao grupo ANDERSON - ONLINE\n",
      "O professor Marguerite foi alocado ao grupo WARRINGTON PRESENCIAL\n",
      "O professor Brian foi alocado ao grupo DANILO - ONLINE\n",
      "O professor Anthony foi alocado ao grupo JULITA - ONLINE\n",
      "O professor Audrey foi alocado ao grupo LONG ISLAND ONLINE\n",
      "O professor Audrey foi alocado ao grupo CYBELE - ONLINE\n",
      "O professor Audrey foi alocado ao grupo CELEBRATION ONLINE\n",
      "O professor Terry foi alocado ao grupo IRELAND ONLINE\n",
      "O professor Bobby foi alocado ao grupo SPRING HILL ONLINE\n",
      "O professor Terry foi alocado ao grupo BIG BEAR LAKE ONLINE\n",
      "O professor Anthony foi alocado ao grupo BIG SUR ONLINE\n",
      "O professor Marguerite foi alocado ao grupo SENEGAL PRESENCIAL\n",
      "O professor Diane foi alocado ao grupo BAKERSFIELD PRESENCIAL\n",
      "O professor Bobby foi alocado ao grupo FAIRFAX PRESENCIAL\n",
      "O professor Audrey foi alocado ao grupo GALICIA ONLINE\n",
      "O professor Josephine foi alocado ao grupo KIDS MINNIE PRESENCIAL\n",
      "O professor Kathy foi alocado ao grupo CONVERSATION 12 PRESENCIAL\n",
      "O professor Michelle foi alocado ao grupo KARINA - ONLINE\n",
      "O professor Bobby foi alocado ao grupo KEY WEST ONLINE\n",
      "O professor Diane foi alocado ao grupo WILLIAMSBURGH PRESENCIAL\n",
      "O professor Audrey foi alocado ao grupo CAIRNS ONLINE\n",
      "O professor Audrey foi alocado ao grupo RICARDO - ONLINE\n",
      "O professor Anthony foi alocado ao grupo OUTBACK ONLINE\n",
      "O professor Josephine foi alocado ao grupo SOUTH AFRICA ONLINE\n",
      "O professor Carlos foi alocado ao grupo TOOWOOMBA ONLINE\n",
      "O professor Barbara foi alocado ao grupo MBA LÍDERES DO FUTURO\n",
      "O professor Marguerite foi alocado ao grupo MBA MR. BEAST\n",
      "O professor Audrey foi alocado ao grupo MBA SHARK OF MONEY\n",
      "O professor Audrey foi alocado ao grupo KIDS DAISY PRESENCIAL\n",
      "O professor Audrey foi alocado ao grupo DELTA PRESENCIAL\n",
      "O professor Carlos foi alocado ao grupo FERNANDO - PRESENCIAL\n",
      "O professor Harold foi alocado ao grupo CLAREMORRIS ONLINE\n",
      "O professor Anthony foi alocado ao grupo RONALDO - ONLINE\n",
      "O professor Deb foi alocado ao grupo BOTSWANA ONLINE\n",
      "O professor Wendy foi alocado ao grupo MILWAUKEE ONLINE\n",
      "O professor Audrey foi alocado ao grupo CONVERSATION 11 ONLINE\n",
      "O professor Terry foi alocado ao grupo MALAHAIDE ONLINE\n",
      "O professor Bobby foi alocado ao grupo GEISSE - ONLINE\n",
      "O professor Anthony foi alocado ao grupo BRADFORD ONLINE\n",
      "O professor Bobby foi alocado ao grupo MAINE ONLINE\n",
      "O professor Linda foi alocado ao grupo GEORGETOWN ONLINE\n",
      "O professor Eddie foi alocado ao grupo FRANKLIN ONLINE\n",
      "O professor Audrey foi alocado ao grupo ICELAND ONLINE\n",
      "O professor Terry foi alocado ao grupo FALLS CHURCH PRESENCIAL\n",
      "O professor Linda foi alocado ao grupo MEMPHIS PRESENCIAL\n",
      "O professor Terry foi alocado ao grupo KIDS DONALD PRESENCIAL\n",
      "O professor Linda foi alocado ao grupo GLENDALE PRESENCIAL\n",
      "O professor Audrey foi alocado ao grupo BRIXTON PRESENCIAL \n",
      "O professor Harold foi alocado ao grupo STANFORD PRESENCIAL\n",
      "O professor Wendy foi alocado ao grupo NORWICH PRESENCIAL\n",
      "O professor Audrey foi alocado ao grupo FELIX YESID - PRESENCIAL\n",
      "O professor Anthony foi alocado ao grupo SEGOVIA PRESENCIAL\n",
      "O professor Ericka foi alocado ao grupo KILDARE PRESENCIAL\n",
      "O professor Linda foi alocado ao grupo QUEENSLAND ONLINE\n",
      "O professor William foi alocado ao grupo KIDS MICKEY PRESENCIAL\n",
      "O professor Terry foi alocado ao grupo HELOISA - ONLINE\n",
      "O professor Christine foi alocado ao grupo EDINBURGH PRESENCIAL\n",
      "O professor Audrey foi alocado ao grupo FRANKLIN - VIP ONLINE\n",
      "O professor Anthony foi alocado ao grupo LUCAS - PRESENCIAL\n",
      "O professor Jerry foi alocado ao grupo KIDS PLUTO ONLINE\n",
      "O professor Roger foi alocado ao grupo NOVA SCOTIA ONLINE\n",
      "O professor Julie foi alocado ao grupo USA ONLINE\n",
      "O professor Harold foi alocado ao grupo WANAKA PRESENCIAL\n",
      "O professor Marguerite foi alocado ao grupo MADISON ONLINE\n",
      "O professor Linda foi alocado ao grupo ROUND ROCK PRESENCIAL\n",
      "O professor Wendy foi alocado ao grupo CHICAGO PRESENCIAL\n",
      "O professor Christine foi alocado ao grupo WISCONSIN ONLINE\n",
      "O professor Harold foi alocado ao grupo ORANGEBURG ONLINE\n",
      "O professor Harold foi alocado ao grupo IOWA ONLINE\n",
      "O professor Bobby foi alocado ao grupo SUNDANCE ONLINE\n",
      "O professor Audrey foi alocado ao grupo ANDRESSA - ONLINE\n",
      "O professor Brian foi alocado ao grupo SAN ANTONIO ONLINE\n",
      "O professor Martin foi alocado ao grupo FREETOWN ONLINE\n",
      "O professor Marguerite foi alocado ao grupo MILFORD ONLINE\n",
      "O professor Carlos foi alocado ao grupo CONVERSATION 2 ONLINE\n",
      "O professor Marguerite foi alocado ao grupo CHARLOTTE PRESENCIAL\n",
      "O professor Terry foi alocado ao grupo DERBY PRESENCIAL\n",
      "O professor Madge foi alocado ao grupo NASSAU PRESENCIAL\n",
      "O professor Madge foi alocado ao grupo CONNECTICUT PRESENCIAL\n",
      "O professor Kathy foi alocado ao grupo BROOKLYN PRESENCIAL\n",
      "O professor Madge foi alocado ao grupo HOLLYWOOD PRESENCIAL\n",
      "O professor Ericka foi alocado ao grupo JAMAICA ONLINE \n",
      "O professor Brian foi alocado ao grupo FIJI ONLINE\n",
      "O professor Michelle foi alocado ao grupo CONVERSATION 10 PRESENCIAL\n",
      "O professor Marguerite foi alocado ao grupo SEATTLE PRESENCIAL\n",
      "O professor Brian foi alocado ao grupo FELIPE - PRESENCIAL\n",
      "O professor Audrey foi alocado ao grupo MATHEUS - PRESENCIAL\n",
      "O professor Anthony foi alocado ao grupo LANCASTER PRESENCIAL\n",
      "O professor Audrey foi alocado ao grupo CONVERSATION 7 PRESENCIAL\n",
      "O professor Terry foi alocado ao grupo SUTTON PRESENCIAL\n",
      "O professor Michelle foi alocado ao grupo BOULDER PRESENCIAL\n",
      "O professor Audrey foi alocado ao grupo PRISCILA - ONLINE\n",
      "O professor Kathy foi alocado ao grupo ELIANE E MARA - PRESENCIAL\n",
      "O professor Josephine foi alocado ao grupo ERIK - PRESENCIAL\n",
      "O professor Wendy foi alocado ao grupo GIULIANO - PRESENCIAL\n",
      "O professor Eddie foi alocado ao grupo CONVERSATION 5 ONLINE\n",
      "O professor Brian foi alocado ao grupo WYOMING PRESENCIAL\n",
      "O professor Wendy foi alocado ao grupo SAN MARCOS PRESENCIAL\n",
      "O professor Roger foi alocado ao grupo FLAGSTAFF PRESENCIAL\n",
      "O professor Diane foi alocado ao grupo BERMUDAS PRESENCIAL\n",
      "O professor Willie foi alocado ao grupo ABU DHABI ONLINE\n",
      "O professor Kathy foi alocado ao grupo LEOMINSTER ONLINE\n",
      "O professor Wendy foi alocado ao grupo SAN FRANCISCO ONLINE\n",
      "O professor Audrey foi alocado ao grupo BENEFICIAR - VIP - VIVIANE - ONLINE\n",
      "O professor Marguerite foi alocado ao grupo NICHOLAS - ONLINE\n",
      "O professor Audrey foi alocado ao grupo QUIOTO ONLINE\n",
      "O professor Carlos foi alocado ao grupo AUCKLAND PRESENCIAL\n",
      "O professor Martin foi alocado ao grupo QUEBEC PRESENCIAL\n",
      "O professor Janet foi alocado ao grupo GUADALAJARA ONLINE\n",
      "O professor Jenna foi alocado ao grupo VALENCIA - ONLINE\n",
      "O professor Donald foi alocado ao grupo MBA MATRIZ\n",
      "O professor Kasie foi alocado ao grupo INTENSIVÃO 3 ONLINE\n",
      "O professor Roger foi alocado ao grupo ERILENE - PRESENCIAL/ONLINE\n",
      "O professor Audrey foi alocado ao grupo ACAPULCO COLABORADORES ONLINE\n",
      "O professor Roger foi alocado ao grupo RODRIGO - PRESENCIAL\n",
      "O professor Audrey foi alocado ao grupo GIBRALTAR PRESENCIAL\n",
      "O professor Bobby foi alocado ao grupo BRISBANE PRESENCIAL\n",
      "O professor Marguerite foi alocado ao grupo NORTHAMPTOM PRESENCIAL\n",
      "O professor Carlos foi alocado ao grupo SOUTHAMPTON PRESENCIAL\n",
      "O professor Terry foi alocado ao grupo AUSTIN ONLINE\n",
      "O professor Brian foi alocado ao grupo BARCELONA PRESENCIAL\n",
      "O professor Anthony foi alocado ao grupo CHARLESTON PRESENCIAL\n",
      "O professor Linda foi alocado ao grupo NEBRASKA PRESENCIAL\n",
      "O professor Harold foi alocado ao grupo SCOTT ONLINE\n",
      "O professor Roger foi alocado ao grupo MONTERREY ONLINE\n",
      "O professor Wendy foi alocado ao grupo SAN JUAN ONLINE\n",
      "O professor Jenna foi alocado ao grupo POLAND PRESENCIAL\n"
     ]
    }
   ],
   "source": [
    "solver = cp_model.CpSolver()\n",
    "status = solver.Solve(model)\n",
    "prof_alocados = pd.DataFrame(columns=['Professor', 'Grupo'])\n",
    "\n",
    "if status == cp_model.OPTIMAL or status == cp_model.FEASIBLE:\n",
    "    for g in df_tratado['Grupo'].unique():\n",
    "        for i in professors:\n",
    "            if solver.Value(alocacoes[(i, g)]):\n",
    "                print(f\"O professor {i} foi alocado ao grupo {g}\")\n",
    "                aloca = pd.DataFrame({'Professor': [i], 'Grupo': [g]})\n",
    "                prof_alocados = pd.concat([prof_alocados, aloca], ignore_index=True)\n",
    "\n",
    "else:\n",
    "    print(\"Nenhuma solução viável foi encontrada.\")"
   ]
  },
  {
   "cell_type": "code",
   "execution_count": 16,
   "metadata": {},
   "outputs": [],
   "source": [
    "aulas_finais = aulas_tratadas.merge(prof_alocados, on='Grupo', how='left')"
   ]
  },
  {
   "cell_type": "code",
   "execution_count": 17,
   "metadata": {},
   "outputs": [
    {
     "data": {
      "text/plain": [
       "30"
      ]
     },
     "execution_count": 17,
     "metadata": {},
     "output_type": "execute_result"
    }
   ],
   "source": [
    "aulas_finais['Professor'].nunique()"
   ]
  },
  {
   "cell_type": "code",
   "execution_count": 18,
   "metadata": {},
   "outputs": [],
   "source": [
    "aulas_finais_raw = aulas_raw.merge(prof_alocados, on='Grupo', how='left')"
   ]
  }
 ],
 "metadata": {
  "kernelspec": {
   "display_name": "Python 3",
   "language": "python",
   "name": "python3"
  },
  "language_info": {
   "codemirror_mode": {
    "name": "ipython",
    "version": 3
   },
   "file_extension": ".py",
   "mimetype": "text/x-python",
   "name": "python",
   "nbconvert_exporter": "python",
   "pygments_lexer": "ipython3",
   "version": "3.10.12"
  }
 },
 "nbformat": 4,
 "nbformat_minor": 2
}
