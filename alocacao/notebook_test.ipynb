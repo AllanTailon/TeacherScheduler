{
 "cells": [
  {
   "cell_type": "code",
   "execution_count": 1,
   "metadata": {},
   "outputs": [],
   "source": [
    "import pandas as pd\n",
    "import numpy as np\n",
    "from ortools.sat.python import cp_model\n",
    "from datetime import datetime, timedelta"
   ]
  },
  {
   "cell_type": "code",
   "execution_count": 2,
   "metadata": {},
   "outputs": [],
   "source": [
    "import sys\n",
    "sys.path.append('/home/cayena/Projeto_thefamily/TeacherScheduler/')"
   ]
  },
  {
   "cell_type": "code",
   "execution_count": 3,
   "metadata": {},
   "outputs": [],
   "source": [
    "from streamlit_app.utils import transform_classes_dateframe,transform_teacher_dataframe\n",
    "from streamlit_app.teacher_alocation import TeacherScheduler"
   ]
  },
  {
   "cell_type": "code",
   "execution_count": 4,
   "metadata": {},
   "outputs": [],
   "source": [
    "professores_raw = pd.read_excel('/home/cayena/Downloads/professores_final.xlsx')\n",
    "aulas_raw = pd.read_excel('/home/cayena/Downloads/rotas_geradas.xlsx')"
   ]
  },
  {
   "cell_type": "code",
   "execution_count": 5,
   "metadata": {},
   "outputs": [],
   "source": [
    "df_result =transform_classes_dateframe(aulas_raw)\n",
    "df_professor = transform_teacher_dataframe(professores_raw)"
   ]
  },
  {
   "cell_type": "code",
   "execution_count": 6,
   "metadata": {},
   "outputs": [
    {
     "data": {
      "text/html": [
       "<div>\n",
       "<style scoped>\n",
       "    .dataframe tbody tr th:only-of-type {\n",
       "        vertical-align: middle;\n",
       "    }\n",
       "\n",
       "    .dataframe tbody tr th {\n",
       "        vertical-align: top;\n",
       "    }\n",
       "\n",
       "    .dataframe thead th {\n",
       "        text-align: right;\n",
       "    }\n",
       "</style>\n",
       "<table border=\"1\" class=\"dataframe\">\n",
       "  <thead>\n",
       "    <tr style=\"text-align: right;\">\n",
       "      <th></th>\n",
       "      <th>professores_alocados</th>\n",
       "      <th>nome grupo</th>\n",
       "    </tr>\n",
       "  </thead>\n",
       "  <tbody>\n",
       "    <tr>\n",
       "      <th>0</th>\n",
       "      <td>DANILO</td>\n",
       "      <td>ABU DHABI EAD - 4X</td>\n",
       "    </tr>\n",
       "    <tr>\n",
       "      <th>1</th>\n",
       "      <td>LUCIANO</td>\n",
       "      <td>ANDERSON VIP EAD - 1X</td>\n",
       "    </tr>\n",
       "    <tr>\n",
       "      <th>2</th>\n",
       "      <td>CENKAY</td>\n",
       "      <td>ANDRE VIP CONV EAD - 2X</td>\n",
       "    </tr>\n",
       "    <tr>\n",
       "      <th>3</th>\n",
       "      <td>LUCIANA</td>\n",
       "      <td>AUCKLAND P - 4X</td>\n",
       "    </tr>\n",
       "    <tr>\n",
       "      <th>4</th>\n",
       "      <td>CENKAY</td>\n",
       "      <td>BAKERSFIELD P - 4X</td>\n",
       "    </tr>\n",
       "    <tr>\n",
       "      <th>...</th>\n",
       "      <td>...</td>\n",
       "      <td>...</td>\n",
       "    </tr>\n",
       "    <tr>\n",
       "      <th>131</th>\n",
       "      <td>ALLAN TESTE</td>\n",
       "      <td>NEBRASKA P - 3X</td>\n",
       "    </tr>\n",
       "    <tr>\n",
       "      <th>132</th>\n",
       "      <td>DANILO</td>\n",
       "      <td>NORTHAMPTOM P - 3X</td>\n",
       "    </tr>\n",
       "    <tr>\n",
       "      <th>133</th>\n",
       "      <td>LEONEL</td>\n",
       "      <td>SAN JUAN EAD - 3X</td>\n",
       "    </tr>\n",
       "    <tr>\n",
       "      <th>134</th>\n",
       "      <td>ANDREY</td>\n",
       "      <td>SCOTT EAD - 3X</td>\n",
       "    </tr>\n",
       "    <tr>\n",
       "      <th>135</th>\n",
       "      <td>LEONARDO</td>\n",
       "      <td>SOUTHAMPTON P - 3X</td>\n",
       "    </tr>\n",
       "  </tbody>\n",
       "</table>\n",
       "<p>136 rows × 2 columns</p>\n",
       "</div>"
      ],
      "text/plain": [
       "    professores_alocados               nome grupo\n",
       "0                 DANILO       ABU DHABI EAD - 4X\n",
       "1                LUCIANO    ANDERSON VIP EAD - 1X\n",
       "2                 CENKAY  ANDRE VIP CONV EAD - 2X\n",
       "3                LUCIANA          AUCKLAND P - 4X\n",
       "4                 CENKAY       BAKERSFIELD P - 4X\n",
       "..                   ...                      ...\n",
       "131          ALLAN TESTE          NEBRASKA P - 3X\n",
       "132               DANILO       NORTHAMPTOM P - 3X\n",
       "133               LEONEL        SAN JUAN EAD - 3X\n",
       "134               ANDREY           SCOTT EAD - 3X\n",
       "135             LEONARDO       SOUTHAMPTON P - 3X\n",
       "\n",
       "[136 rows x 2 columns]"
      ]
     },
     "execution_count": 6,
     "metadata": {},
     "output_type": "execute_result"
    }
   ],
   "source": [
    "Ts = TeacherScheduler(df_result, professores_raw)\n",
    "base_alocada = Ts.schedule_teachers()\n",
    "base_alocada"
   ]
  }
 ],
 "metadata": {
  "kernelspec": {
   "display_name": "Python 3",
   "language": "python",
   "name": "python3"
  },
  "language_info": {
   "codemirror_mode": {
    "name": "ipython",
    "version": 3
   },
   "file_extension": ".py",
   "mimetype": "text/x-python",
   "name": "python",
   "nbconvert_exporter": "python",
   "pygments_lexer": "ipython3",
   "version": "3.10.12"
  }
 },
 "nbformat": 4,
 "nbformat_minor": 2
}
