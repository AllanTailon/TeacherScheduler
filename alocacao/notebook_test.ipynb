{
 "cells": [
  {
   "cell_type": "code",
   "execution_count": 1,
   "metadata": {},
   "outputs": [],
   "source": [
    "import pandas as pd\n",
    "import numpy as np\n",
    "from ortools.sat.python import cp_model\n",
    "from datetime import datetime, timedelta"
   ]
  },
  {
   "cell_type": "code",
   "execution_count": 2,
   "metadata": {},
   "outputs": [],
   "source": [
    "import sys\n",
    "sys.path.append('/home/cayena/Projeto_thefamily/TeacherScheduler/')"
   ]
  },
  {
   "cell_type": "code",
   "execution_count": 3,
   "metadata": {},
   "outputs": [
    {
     "name": "stderr",
     "output_type": "stream",
     "text": [
      "2025-04-25 19:56:47.955 WARNING streamlit.runtime.scriptrunner_utils.script_run_context: Thread 'MainThread': missing ScriptRunContext! This warning can be ignored when running in bare mode.\n",
      "2025-04-25 19:56:47.960 WARNING streamlit.runtime.scriptrunner_utils.script_run_context: Thread 'MainThread': missing ScriptRunContext! This warning can be ignored when running in bare mode.\n",
      "2025-04-25 19:56:47.965 WARNING streamlit.runtime.scriptrunner_utils.script_run_context: Thread 'MainThread': missing ScriptRunContext! This warning can be ignored when running in bare mode.\n",
      "2025-04-25 19:56:47.968 WARNING streamlit.runtime.scriptrunner_utils.script_run_context: Thread 'MainThread': missing ScriptRunContext! This warning can be ignored when running in bare mode.\n"
     ]
    }
   ],
   "source": [
    "from streamlit_app.utils import transform_classes_dateframe,transform_teacher_dataframe,transform_alocation_dataframe,base_selection,expand_rows,replicate_row,clean_data\n",
    "from streamlit_app.teacher_alocation import TeacherScheduler\n",
    "from streamlit_app.validador import validador"
   ]
  },
  {
   "cell_type": "code",
   "execution_count": 4,
   "metadata": {},
   "outputs": [],
   "source": [
    "aulas_raw = pd.read_excel('/home/cayena/Downloads/CARLOS VIADO 2.xlsx')\n",
    "\n",
    "professores_raw = pd.read_excel('/home/cayena/Downloads/CARLOS VIADO.xlsx')"
   ]
  },
  {
   "cell_type": "code",
   "execution_count": 5,
   "metadata": {},
   "outputs": [],
   "source": [
    "df_result =transform_classes_dateframe(aulas_raw)\n",
    "df_professor = transform_teacher_dataframe(professores_raw)"
   ]
  },
  {
   "cell_type": "code",
   "execution_count": 6,
   "metadata": {},
   "outputs": [
    {
     "name": "stdout",
     "output_type": "stream",
     "text": [
      "2778\n"
     ]
    },
    {
     "data": {
      "text/html": [
       "<div>\n",
       "<style scoped>\n",
       "    .dataframe tbody tr th:only-of-type {\n",
       "        vertical-align: middle;\n",
       "    }\n",
       "\n",
       "    .dataframe tbody tr th {\n",
       "        vertical-align: top;\n",
       "    }\n",
       "\n",
       "    .dataframe thead th {\n",
       "        text-align: right;\n",
       "    }\n",
       "</style>\n",
       "<table border=\"1\" class=\"dataframe\">\n",
       "  <thead>\n",
       "    <tr style=\"text-align: right;\">\n",
       "      <th></th>\n",
       "      <th>professores_alocados</th>\n",
       "      <th>nome grupo</th>\n",
       "    </tr>\n",
       "  </thead>\n",
       "  <tbody>\n",
       "    <tr>\n",
       "      <th>0</th>\n",
       "      <td>MATTHEW</td>\n",
       "      <td>ABU DHABI EAD - 4X</td>\n",
       "    </tr>\n",
       "    <tr>\n",
       "      <th>1</th>\n",
       "      <td>LORRANY</td>\n",
       "      <td>AUCKLAND P - 4X</td>\n",
       "    </tr>\n",
       "    <tr>\n",
       "      <th>2</th>\n",
       "      <td>CAROL</td>\n",
       "      <td>BAKERSFIELD P - 4X</td>\n",
       "    </tr>\n",
       "    <tr>\n",
       "      <th>3</th>\n",
       "      <td>DARLENE</td>\n",
       "      <td>BELIZE P - 3X</td>\n",
       "    </tr>\n",
       "    <tr>\n",
       "      <th>4</th>\n",
       "      <td>MADISON</td>\n",
       "      <td>BERMUDAS P - 4X</td>\n",
       "    </tr>\n",
       "    <tr>\n",
       "      <th>...</th>\n",
       "      <td>...</td>\n",
       "      <td>...</td>\n",
       "    </tr>\n",
       "    <tr>\n",
       "      <th>139</th>\n",
       "      <td>FELIPE</td>\n",
       "      <td>NORTHAMPTOM P - 3X</td>\n",
       "    </tr>\n",
       "    <tr>\n",
       "      <th>140</th>\n",
       "      <td>CARLOS</td>\n",
       "      <td>PHILADELPHIA P - 3X</td>\n",
       "    </tr>\n",
       "    <tr>\n",
       "      <th>141</th>\n",
       "      <td>LEONEL</td>\n",
       "      <td>SAN JUAN EAD - 3X</td>\n",
       "    </tr>\n",
       "    <tr>\n",
       "      <th>142</th>\n",
       "      <td>CLAUDIO</td>\n",
       "      <td>SCOTT EAD - 3X</td>\n",
       "    </tr>\n",
       "    <tr>\n",
       "      <th>143</th>\n",
       "      <td>CAIO</td>\n",
       "      <td>SOUTHAMPTON P - 3X</td>\n",
       "    </tr>\n",
       "  </tbody>\n",
       "</table>\n",
       "<p>144 rows × 2 columns</p>\n",
       "</div>"
      ],
      "text/plain": [
       "    professores_alocados           nome grupo\n",
       "0                MATTHEW   ABU DHABI EAD - 4X\n",
       "1                LORRANY      AUCKLAND P - 4X\n",
       "2                  CAROL   BAKERSFIELD P - 4X\n",
       "3                DARLENE        BELIZE P - 3X\n",
       "4                MADISON      BERMUDAS P - 4X\n",
       "..                   ...                  ...\n",
       "139               FELIPE   NORTHAMPTOM P - 3X\n",
       "140               CARLOS  PHILADELPHIA P - 3X\n",
       "141               LEONEL    SAN JUAN EAD - 3X\n",
       "142              CLAUDIO       SCOTT EAD - 3X\n",
       "143                 CAIO   SOUTHAMPTON P - 3X\n",
       "\n",
       "[144 rows x 2 columns]"
      ]
     },
     "execution_count": 6,
     "metadata": {},
     "output_type": "execute_result"
    }
   ],
   "source": [
    "Ts = TeacherScheduler(df_result, df_professor)\n",
    "base_alocada = Ts.schedule_teachers()\n",
    "base_alocada"
   ]
  },
  {
   "cell_type": "code",
   "execution_count": 7,
   "metadata": {},
   "outputs": [
    {
     "data": {
      "text/html": [
       "<div>\n",
       "<style scoped>\n",
       "    .dataframe tbody tr th:only-of-type {\n",
       "        vertical-align: middle;\n",
       "    }\n",
       "\n",
       "    .dataframe tbody tr th {\n",
       "        vertical-align: top;\n",
       "    }\n",
       "\n",
       "    .dataframe thead th {\n",
       "        text-align: right;\n",
       "    }\n",
       "</style>\n",
       "<table border=\"1\" class=\"dataframe\">\n",
       "  <thead>\n",
       "    <tr style=\"text-align: right;\">\n",
       "      <th></th>\n",
       "      <th>nome grupo</th>\n",
       "      <th>horario</th>\n",
       "      <th>unidade</th>\n",
       "      <th>dias da semana</th>\n",
       "      <th>stage</th>\n",
       "      <th>livro</th>\n",
       "      <th>modalidade</th>\n",
       "      <th>grupo</th>\n",
       "      <th>n aulas</th>\n",
       "      <th>parag atual grupo</th>\n",
       "      <th>...</th>\n",
       "      <th>rescisao</th>\n",
       "      <th>permuta</th>\n",
       "      <th>bolsista</th>\n",
       "      <th>n_total_alunos</th>\n",
       "      <th>stage_formula</th>\n",
       "      <th>parag_final_formula</th>\n",
       "      <th>num_1_sempre</th>\n",
       "      <th>ultimo_professor</th>\n",
       "      <th>penultimo_professor</th>\n",
       "      <th>restricoes_professor</th>\n",
       "    </tr>\n",
       "  </thead>\n",
       "  <tbody>\n",
       "  </tbody>\n",
       "</table>\n",
       "<p>0 rows × 25 columns</p>\n",
       "</div>"
      ],
      "text/plain": [
       "Empty DataFrame\n",
       "Columns: [nome grupo, horario, unidade, dias da semana, stage, livro, modalidade, grupo, n aulas, parag atual grupo, parag_final_grupo, teacher, status, zoom, n_alunos, rescisao, permuta, bolsista, n_total_alunos, stage_formula, parag_final_formula, num_1_sempre, ultimo_professor, penultimo_professor, restricoes_professor]\n",
       "Index: []\n",
       "\n",
       "[0 rows x 25 columns]"
      ]
     },
     "execution_count": 7,
     "metadata": {},
     "output_type": "execute_result"
    }
   ],
   "source": [
    "df_final,aulas_nao_alocadas = transform_alocation_dataframe(aulas_raw,base_alocada)\n",
    "aulas_nao_alocadas"
   ]
  },
  {
   "cell_type": "code",
   "execution_count": 9,
   "metadata": {},
   "outputs": [],
   "source": [
    "numero_aulas = df_final.groupby('teacher').agg({'n aulas':'sum'}).sort_values('n aulas',ascending=False).reset_index()\n",
    "numero_aulas = pd.merge(numero_aulas,df_professor[['TEACHER','MEDIA']],left_on='teacher',right_on='TEACHER',how='left')"
   ]
  },
  {
   "cell_type": "code",
   "execution_count": 10,
   "metadata": {},
   "outputs": [],
   "source": [
    "numero_aulas['MIN_AULAS'] = numero_aulas['MEDIA'] - 3"
   ]
  },
  {
   "cell_type": "markdown",
   "metadata": {},
   "source": [
    "## soluçoes ##\n",
    "1 - tentar olhar para o minimo de aulas (botar o minimo para todos) / vai dar errado.\n",
    "2 - dar um peso grande para quem tem muita aulas (>= 20) e pouco peso para que tem pouca aulas (<=10).\n",
    " 2.1 - 24 aulas = minimo vai ser 24 - 3 = 21 / 12 aulas = minimo vai ser 12 - 6 = 6 aulas \n",
    "3 - pensar em algo para que tente alocar o maximo, o minimo mas se nao der, tudo bem."
   ]
  },
  {
   "cell_type": "code",
   "execution_count": null,
   "metadata": {},
   "outputs": [],
   "source": []
  },
  {
   "cell_type": "code",
   "execution_count": null,
   "metadata": {},
   "outputs": [],
   "source": []
  }
 ],
 "metadata": {
  "kernelspec": {
   "display_name": "Python 3",
   "language": "python",
   "name": "python3"
  },
  "language_info": {
   "codemirror_mode": {
    "name": "ipython",
    "version": 3
   },
   "file_extension": ".py",
   "mimetype": "text/x-python",
   "name": "python",
   "nbconvert_exporter": "python",
   "pygments_lexer": "ipython3",
   "version": "3.10.12"
  }
 },
 "nbformat": 4,
 "nbformat_minor": 2
}
